{
 "cells": [
  {
   "cell_type": "code",
   "execution_count": 5,
   "metadata": {},
   "outputs": [
    {
     "name": "stdout",
     "output_type": "stream",
     "text": [
      "calculated params (in GB):\n",
      " 5.933109248\n"
     ]
    }
   ],
   "source": [
    "from typing import Optional\n",
    "\n",
    "def llama_params(\n",
    "  hidden_dim: int,\n",
    "  intermediate_size: int,\n",
    "  hidden_layers: int,\n",
    "  q_heads: int,\n",
    "  kv_heads: Optional[int] = None,\n",
    "  head_dim=128,\n",
    "  vocab_size=32000,\n",
    "):\n",
    "  kv_heads = q_heads if kv_heads is None else kv_heads\n",
    "  embedding = unembedding = vocab_size*hidden_dim\n",
    "  q_proj = hidden_dim * q_heads*head_dim\n",
    "  k_proj = v_proj = hidden_dim * kv_heads*head_dim\n",
    "  o_proj = hidden_dim**2\n",
    "  gate_proj = up_proj = down_proj = hidden_dim * intermediate_size\n",
    "  input_layernorm = post_attn_layernorm = norm = hidden_dim\n",
    "  param_count = embedding + hidden_layers * (q_proj + k_proj + v_proj + o_proj + gate_proj + up_proj + down_proj + input_layernorm + post_attn_layernorm) + norm + unembedding\n",
    "  param_count = param_count/1e+9\n",
    "  print('calculated params (in GB):\\n', param_count)\n",
    "  return param_count\n",
    "\n",
    "# 7b\n",
    "param_count = llama_params(\n",
    "  hidden_dim=4096,\n",
    "  intermediate_size=11008,\n",
    "  hidden_layers=32,\n",
    "  q_heads=32,\n",
    "  kv_heads=8\n",
    ")"
   ]
  },
  {
   "cell_type": "code",
   "execution_count": 10,
   "metadata": {},
   "outputs": [
    {
     "name": "stdout",
     "output_type": "stream",
     "text": [
      "calculated params (in GB):\n",
      " 3.35586816\n"
     ]
    }
   ],
   "source": [
    "# FS - default\n",
    "param_count = llama_params(\n",
    "  hidden_dim=3072,\n",
    "  intermediate_size=8064,\n",
    "  hidden_layers=26,\n",
    "  q_heads=32,\n",
    ")\n",
    "\n",
    "print('calculated params (in GB):\\n', param_count)"
   ]
  },
  {
   "cell_type": "code",
   "execution_count": 6,
   "metadata": {},
   "outputs": [
    {
     "name": "stdout",
     "output_type": "stream",
     "text": [
      "calculated params (in GB):\n",
      " 1.871744\n"
     ]
    }
   ],
   "source": [
    "param_count = llama_params(\n",
    "  hidden_dim=7168,\n",
    "  intermediate_size=23296,\n",
    "  hidden_layers=2,\n",
    "  q_heads=56\n",
    ")"
   ]
  },
  {
   "cell_type": "code",
   "execution_count": null,
   "metadata": {},
   "outputs": [],
   "source": []
  }
 ],
 "metadata": {
  "kernelspec": {
   "display_name": "common_venv",
   "language": "python",
   "name": "python3"
  },
  "language_info": {
   "codemirror_mode": {
    "name": "ipython",
    "version": 3
   },
   "file_extension": ".py",
   "mimetype": "text/x-python",
   "name": "python",
   "nbconvert_exporter": "python",
   "pygments_lexer": "ipython3",
   "version": "3.11.6"
  }
 },
 "nbformat": 4,
 "nbformat_minor": 2
}
